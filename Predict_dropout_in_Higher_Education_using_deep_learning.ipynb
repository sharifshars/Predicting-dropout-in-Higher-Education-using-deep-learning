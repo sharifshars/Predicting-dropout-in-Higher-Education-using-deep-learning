{
  "nbformat": 4,
  "nbformat_minor": 0,
  "metadata": {
    "colab": {
      "provenance": []
    },
    "kernelspec": {
      "name": "python3",
      "display_name": "Python 3"
    },
    "language_info": {
      "name": "python"
    }
  },
  "cells": [
    {
      "cell_type": "code",
      "source": [
        "\n",
        "# Mounting Google Drive to access files\n",
        "from google.colab import drive\n",
        "drive.mount('/content/drive')"
      ],
      "metadata": {
        "id": "x9vXmmclH5E4",
        "colab": {
          "base_uri": "https://localhost:8080/"
        },
        "outputId": "a6a6e834-3dad-4348-f64b-62a3b4a2e869"
      },
      "execution_count": null,
      "outputs": [
        {
          "output_type": "stream",
          "name": "stdout",
          "text": [
            "Mounted at /content/drive\n"
          ]
        }
      ]
    },
    {
      "cell_type": "code",
      "execution_count": null,
      "metadata": {
        "id": "HaD4naj8HfUn"
      },
      "outputs": [],
      "source": [
        "import numpy as np\n",
        "import pandas as pd\n",
        "from sklearn.model_selection import train_test_split\n",
        "from sklearn.preprocessing import LabelEncoder\n",
        "from sklearn.metrics import accuracy_score, precision_score, recall_score, f1_score\n",
        "from tensorflow.keras.models import Sequential\n",
        "from tensorflow.keras.layers import Dense\n",
        "from tensorflow.keras.losses import BinaryCrossentropy\n",
        "from tensorflow.keras.optimizers import Adam\n",
        "from tensorflow.keras.metrics import Precision, Recall"
      ]
    },
    {
      "cell_type": "code",
      "source": [
        "# Load the dataset\n",
        "df = pd.read_csv('/content/drive/MyDrive/MSCS/Deeplearning/kaggle.csv')"
      ],
      "metadata": {
        "id": "DeXBEjehHmuH"
      },
      "execution_count": null,
      "outputs": []
    },
    {
      "cell_type": "code",
      "source": [
        "# Preprocess the data\n",
        "students_df = df[df['Target'] != 'Enrolled'].copy()\n",
        "students_df['Target'] = LabelEncoder().fit_transform(students_df['Target'])"
      ],
      "metadata": {
        "id": "nMh6qnvNImR6"
      },
      "execution_count": null,
      "outputs": []
    },
    {
      "cell_type": "code",
      "source": [
        "# Split the data into features and target\n",
        "X = students_df.iloc[:, :-1]\n",
        "y = students_df['Target']"
      ],
      "metadata": {
        "id": "_FjNJJf1IqRL"
      },
      "execution_count": null,
      "outputs": []
    },
    {
      "cell_type": "code",
      "source": [
        "# Split the data into training and test sets\n",
        "X_train, X_test, y_train, y_test = train_test_split(X, y, test_size=0.2, random_state=1)"
      ],
      "metadata": {
        "id": "KQe1aHHkIuNN"
      },
      "execution_count": null,
      "outputs": []
    },
    {
      "cell_type": "code",
      "source": [
        "# number of columns\n",
        "num_columns = len(df.columns)\n",
        "\n",
        "# number of rows\n",
        "num_rows = len(df)\n",
        "\n",
        "# number of fields (cells) in the dataset\n",
        "num_fields = num_rows * num_columns\n",
        "\n",
        "\n",
        "# Print the results\n",
        "print(\"Number of columns:\", num_columns)\n",
        "print(\"Number of rows:\", num_rows)\n",
        "print(\"Number of fields:\", num_fields)\n"
      ],
      "metadata": {
        "id": "CNmMTf42cykl",
        "outputId": "c5523afa-fdc0-422d-911b-6e0cd03d100b",
        "colab": {
          "base_uri": "https://localhost:8080/"
        }
      },
      "execution_count": null,
      "outputs": [
        {
          "output_type": "stream",
          "name": "stdout",
          "text": [
            "Number of columns: 35\n",
            "Number of rows: 4424\n",
            "Number of fields: 154840\n"
          ]
        }
      ]
    },
    {
      "cell_type": "code",
      "source": [
        "# Define the neural network model\n",
        "model = Sequential()\n",
        "model.add(Dense(64, activation='relu', input_shape=(X_train.shape[1],)))\n",
        "model.add(Dense(32, activation='relu'))\n",
        "model.add(Dense(1, activation='sigmoid'))"
      ],
      "metadata": {
        "id": "rOifLiElIzl9"
      },
      "execution_count": null,
      "outputs": []
    },
    {
      "cell_type": "code",
      "source": [
        "# Compile the model\n",
        "model.compile(optimizer=Adam(), loss=BinaryCrossentropy(), metrics=['accuracy', Precision(), Recall()])\n"
      ],
      "metadata": {
        "id": "p4X3fsw7I1s2"
      },
      "execution_count": null,
      "outputs": []
    },
    {
      "cell_type": "code",
      "source": [
        "# Print the model summary\n",
        "model.summary()"
      ],
      "metadata": {
        "colab": {
          "base_uri": "https://localhost:8080/"
        },
        "id": "px4icQY4clBz",
        "outputId": "82f7f444-ae6e-4161-ac67-8ac239b8a0df"
      },
      "execution_count": null,
      "outputs": [
        {
          "output_type": "stream",
          "name": "stdout",
          "text": [
            "Model: \"sequential\"\n",
            "_________________________________________________________________\n",
            " Layer (type)                Output Shape              Param #   \n",
            "=================================================================\n",
            " dense (Dense)               (None, 64)                2240      \n",
            "                                                                 \n",
            " dense_1 (Dense)             (None, 32)                2080      \n",
            "                                                                 \n",
            " dense_2 (Dense)             (None, 1)                 33        \n",
            "                                                                 \n",
            "=================================================================\n",
            "Total params: 4,353\n",
            "Trainable params: 4,353\n",
            "Non-trainable params: 0\n",
            "_________________________________________________________________\n"
          ]
        }
      ]
    },
    {
      "cell_type": "code",
      "source": [
        "# Train the model\n",
        "model.fit(X_train, y_train, epochs=100, batch_size=32, verbose=1)"
      ],
      "metadata": {
        "colab": {
          "base_uri": "https://localhost:8080/"
        },
        "id": "ErUL73YkI8FG",
        "outputId": "0b78ae83-a014-404d-bb4c-3588ef21747e"
      },
      "execution_count": null,
      "outputs": [
        {
          "output_type": "stream",
          "name": "stdout",
          "text": [
            "Epoch 1/100\n",
            "91/91 [==============================] - 1s 2ms/step - loss: 0.6295 - accuracy: 0.7596 - precision: 0.7770 - recall: 0.8467\n",
            "Epoch 2/100\n",
            "91/91 [==============================] - 0s 2ms/step - loss: 0.3294 - accuracy: 0.8585 - precision: 0.8617 - recall: 0.9131\n",
            "Epoch 3/100\n",
            "91/91 [==============================] - 0s 2ms/step - loss: 0.2852 - accuracy: 0.8860 - precision: 0.8844 - recall: 0.9341\n",
            "Epoch 4/100\n",
            "91/91 [==============================] - 0s 2ms/step - loss: 0.2723 - accuracy: 0.8895 - precision: 0.8883 - recall: 0.9353\n",
            "Epoch 5/100\n",
            "91/91 [==============================] - 0s 2ms/step - loss: 0.2518 - accuracy: 0.8988 - precision: 0.8891 - recall: 0.9517\n",
            "Epoch 6/100\n",
            "91/91 [==============================] - 0s 2ms/step - loss: 0.2491 - accuracy: 0.9029 - precision: 0.8965 - recall: 0.9495\n",
            "Epoch 7/100\n",
            "91/91 [==============================] - 0s 2ms/step - loss: 0.2402 - accuracy: 0.9077 - precision: 0.9011 - recall: 0.9523\n",
            "Epoch 8/100\n",
            "91/91 [==============================] - 0s 2ms/step - loss: 0.2340 - accuracy: 0.9122 - precision: 0.9035 - recall: 0.9574\n",
            "Epoch 9/100\n",
            "91/91 [==============================] - 0s 2ms/step - loss: 0.2334 - accuracy: 0.9101 - precision: 0.9024 - recall: 0.9551\n",
            "Epoch 10/100\n",
            "91/91 [==============================] - 0s 2ms/step - loss: 0.2256 - accuracy: 0.9129 - precision: 0.9071 - recall: 0.9540\n",
            "Epoch 11/100\n",
            "91/91 [==============================] - 0s 2ms/step - loss: 0.2273 - accuracy: 0.9132 - precision: 0.9063 - recall: 0.9557\n",
            "Epoch 12/100\n",
            "91/91 [==============================] - 0s 3ms/step - loss: 0.2241 - accuracy: 0.9132 - precision: 0.9067 - recall: 0.9551\n",
            "Epoch 13/100\n",
            "91/91 [==============================] - 1s 8ms/step - loss: 0.2329 - accuracy: 0.9122 - precision: 0.9084 - recall: 0.9512\n",
            "Epoch 14/100\n",
            "91/91 [==============================] - 1s 8ms/step - loss: 0.2159 - accuracy: 0.9163 - precision: 0.9103 - recall: 0.9563\n",
            "Epoch 15/100\n",
            "91/91 [==============================] - 0s 4ms/step - loss: 0.2113 - accuracy: 0.9167 - precision: 0.9112 - recall: 0.9557\n",
            "Epoch 16/100\n",
            "91/91 [==============================] - 1s 10ms/step - loss: 0.2095 - accuracy: 0.9232 - precision: 0.9179 - recall: 0.9591\n",
            "Epoch 17/100\n",
            "91/91 [==============================] - 0s 5ms/step - loss: 0.2084 - accuracy: 0.9222 - precision: 0.9164 - recall: 0.9591\n",
            "Epoch 18/100\n",
            "91/91 [==============================] - 0s 3ms/step - loss: 0.2109 - accuracy: 0.9229 - precision: 0.9165 - recall: 0.9602\n",
            "Epoch 19/100\n",
            "91/91 [==============================] - 1s 10ms/step - loss: 0.2021 - accuracy: 0.9253 - precision: 0.9191 - recall: 0.9614\n",
            "Epoch 20/100\n",
            "91/91 [==============================] - 0s 5ms/step - loss: 0.2039 - accuracy: 0.9246 - precision: 0.9181 - recall: 0.9614\n",
            "Epoch 21/100\n",
            "91/91 [==============================] - 0s 2ms/step - loss: 0.2014 - accuracy: 0.9229 - precision: 0.9183 - recall: 0.9580\n",
            "Epoch 22/100\n",
            "91/91 [==============================] - 0s 2ms/step - loss: 0.1991 - accuracy: 0.9256 - precision: 0.9151 - recall: 0.9671\n",
            "Epoch 23/100\n",
            "91/91 [==============================] - 0s 2ms/step - loss: 0.2066 - accuracy: 0.9163 - precision: 0.9134 - recall: 0.9523\n",
            "Epoch 24/100\n",
            "91/91 [==============================] - 0s 2ms/step - loss: 0.1922 - accuracy: 0.9294 - precision: 0.9247 - recall: 0.9620\n",
            "Epoch 25/100\n",
            "91/91 [==============================] - 0s 2ms/step - loss: 0.1862 - accuracy: 0.9304 - precision: 0.9239 - recall: 0.9648\n",
            "Epoch 26/100\n",
            "91/91 [==============================] - 0s 2ms/step - loss: 0.1859 - accuracy: 0.9301 - precision: 0.9234 - recall: 0.9648\n",
            "Epoch 27/100\n",
            "91/91 [==============================] - 0s 2ms/step - loss: 0.1866 - accuracy: 0.9349 - precision: 0.9290 - recall: 0.9665\n",
            "Epoch 28/100\n",
            "91/91 [==============================] - 0s 2ms/step - loss: 0.1826 - accuracy: 0.9329 - precision: 0.9269 - recall: 0.9654\n",
            "Epoch 29/100\n",
            "91/91 [==============================] - 0s 2ms/step - loss: 0.1760 - accuracy: 0.9349 - precision: 0.9276 - recall: 0.9682\n",
            "Epoch 30/100\n",
            "91/91 [==============================] - 0s 2ms/step - loss: 0.1741 - accuracy: 0.9353 - precision: 0.9267 - recall: 0.9699\n",
            "Epoch 31/100\n",
            "91/91 [==============================] - 0s 2ms/step - loss: 0.1738 - accuracy: 0.9380 - precision: 0.9299 - recall: 0.9710\n",
            "Epoch 32/100\n",
            "91/91 [==============================] - 0s 2ms/step - loss: 0.1775 - accuracy: 0.9353 - precision: 0.9281 - recall: 0.9682\n",
            "Epoch 33/100\n",
            "91/91 [==============================] - 0s 2ms/step - loss: 0.1733 - accuracy: 0.9366 - precision: 0.9311 - recall: 0.9671\n",
            "Epoch 34/100\n",
            "91/91 [==============================] - 0s 2ms/step - loss: 0.1773 - accuracy: 0.9346 - precision: 0.9285 - recall: 0.9665\n",
            "Epoch 35/100\n",
            "91/91 [==============================] - 0s 2ms/step - loss: 0.1652 - accuracy: 0.9373 - precision: 0.9331 - recall: 0.9659\n",
            "Epoch 36/100\n",
            "91/91 [==============================] - 0s 2ms/step - loss: 0.1674 - accuracy: 0.9360 - precision: 0.9273 - recall: 0.9705\n",
            "Epoch 37/100\n",
            "91/91 [==============================] - 0s 2ms/step - loss: 0.1637 - accuracy: 0.9404 - precision: 0.9329 - recall: 0.9716\n",
            "Epoch 38/100\n",
            "91/91 [==============================] - 0s 2ms/step - loss: 0.1630 - accuracy: 0.9370 - precision: 0.9330 - recall: 0.9654\n",
            "Epoch 39/100\n",
            "91/91 [==============================] - 0s 2ms/step - loss: 0.1648 - accuracy: 0.9377 - precision: 0.9298 - recall: 0.9705\n",
            "Epoch 40/100\n",
            "91/91 [==============================] - 0s 2ms/step - loss: 0.1592 - accuracy: 0.9390 - precision: 0.9352 - recall: 0.9665\n",
            "Epoch 41/100\n",
            "91/91 [==============================] - 0s 2ms/step - loss: 0.1544 - accuracy: 0.9442 - precision: 0.9376 - recall: 0.9727\n",
            "Epoch 42/100\n",
            "91/91 [==============================] - 0s 2ms/step - loss: 0.1489 - accuracy: 0.9449 - precision: 0.9367 - recall: 0.9750\n",
            "Epoch 43/100\n",
            "91/91 [==============================] - 0s 2ms/step - loss: 0.1518 - accuracy: 0.9446 - precision: 0.9362 - recall: 0.9750\n",
            "Epoch 44/100\n",
            "91/91 [==============================] - 0s 2ms/step - loss: 0.1504 - accuracy: 0.9483 - precision: 0.9380 - recall: 0.9796\n",
            "Epoch 45/100\n",
            "91/91 [==============================] - 0s 2ms/step - loss: 0.1464 - accuracy: 0.9463 - precision: 0.9412 - recall: 0.9722\n",
            "Epoch 46/100\n",
            "91/91 [==============================] - 0s 2ms/step - loss: 0.1439 - accuracy: 0.9466 - precision: 0.9398 - recall: 0.9744\n",
            "Epoch 47/100\n",
            "91/91 [==============================] - 0s 2ms/step - loss: 0.1580 - accuracy: 0.9373 - precision: 0.9345 - recall: 0.9642\n",
            "Epoch 48/100\n",
            "91/91 [==============================] - 0s 2ms/step - loss: 0.1421 - accuracy: 0.9504 - precision: 0.9416 - recall: 0.9790\n",
            "Epoch 49/100\n",
            "91/91 [==============================] - 0s 2ms/step - loss: 0.1487 - accuracy: 0.9470 - precision: 0.9388 - recall: 0.9761\n",
            "Epoch 50/100\n",
            "91/91 [==============================] - 0s 2ms/step - loss: 0.1355 - accuracy: 0.9535 - precision: 0.9462 - recall: 0.9790\n",
            "Epoch 51/100\n",
            "91/91 [==============================] - 0s 2ms/step - loss: 0.1370 - accuracy: 0.9521 - precision: 0.9481 - recall: 0.9744\n",
            "Epoch 52/100\n",
            "91/91 [==============================] - 0s 2ms/step - loss: 0.1381 - accuracy: 0.9490 - precision: 0.9419 - recall: 0.9761\n",
            "Epoch 53/100\n",
            "91/91 [==============================] - 0s 2ms/step - loss: 0.1335 - accuracy: 0.9539 - precision: 0.9438 - recall: 0.9824\n",
            "Epoch 54/100\n",
            "91/91 [==============================] - 0s 2ms/step - loss: 0.1339 - accuracy: 0.9521 - precision: 0.9471 - recall: 0.9756\n",
            "Epoch 55/100\n",
            "91/91 [==============================] - 0s 2ms/step - loss: 0.1354 - accuracy: 0.9518 - precision: 0.9470 - recall: 0.9750\n",
            "Epoch 56/100\n",
            "91/91 [==============================] - 0s 2ms/step - loss: 0.1268 - accuracy: 0.9573 - precision: 0.9490 - recall: 0.9824\n",
            "Epoch 57/100\n",
            "91/91 [==============================] - 0s 2ms/step - loss: 0.1412 - accuracy: 0.9483 - precision: 0.9443 - recall: 0.9722\n",
            "Epoch 58/100\n",
            "91/91 [==============================] - 0s 2ms/step - loss: 0.1190 - accuracy: 0.9604 - precision: 0.9537 - recall: 0.9824\n",
            "Epoch 59/100\n",
            "91/91 [==============================] - 0s 2ms/step - loss: 0.1305 - accuracy: 0.9545 - precision: 0.9473 - recall: 0.9796\n",
            "Epoch 60/100\n",
            "91/91 [==============================] - 0s 2ms/step - loss: 0.1297 - accuracy: 0.9552 - precision: 0.9488 - recall: 0.9790\n",
            "Epoch 61/100\n",
            "91/91 [==============================] - 0s 2ms/step - loss: 0.1190 - accuracy: 0.9594 - precision: 0.9531 - recall: 0.9813\n",
            "Epoch 62/100\n",
            "91/91 [==============================] - 0s 2ms/step - loss: 0.1142 - accuracy: 0.9611 - precision: 0.9547 - recall: 0.9824\n",
            "Epoch 63/100\n",
            "91/91 [==============================] - 0s 2ms/step - loss: 0.1165 - accuracy: 0.9590 - precision: 0.9526 - recall: 0.9813\n",
            "Epoch 64/100\n",
            "91/91 [==============================] - 0s 2ms/step - loss: 0.1125 - accuracy: 0.9597 - precision: 0.9546 - recall: 0.9801\n",
            "Epoch 65/100\n",
            "91/91 [==============================] - 0s 2ms/step - loss: 0.1206 - accuracy: 0.9545 - precision: 0.9483 - recall: 0.9784\n",
            "Epoch 66/100\n",
            "91/91 [==============================] - 0s 2ms/step - loss: 0.1159 - accuracy: 0.9583 - precision: 0.9530 - recall: 0.9796\n",
            "Epoch 67/100\n",
            "91/91 [==============================] - 0s 2ms/step - loss: 0.1147 - accuracy: 0.9549 - precision: 0.9503 - recall: 0.9767\n",
            "Epoch 68/100\n",
            "91/91 [==============================] - 0s 2ms/step - loss: 0.1096 - accuracy: 0.9618 - precision: 0.9558 - recall: 0.9824\n",
            "Epoch 69/100\n",
            "91/91 [==============================] - 0s 2ms/step - loss: 0.1116 - accuracy: 0.9607 - precision: 0.9557 - recall: 0.9807\n",
            "Epoch 70/100\n",
            "91/91 [==============================] - 0s 2ms/step - loss: 0.1074 - accuracy: 0.9638 - precision: 0.9580 - recall: 0.9835\n",
            "Epoch 71/100\n",
            "91/91 [==============================] - 0s 2ms/step - loss: 0.1038 - accuracy: 0.9628 - precision: 0.9574 - recall: 0.9824\n",
            "Epoch 72/100\n",
            "91/91 [==============================] - 0s 2ms/step - loss: 0.1045 - accuracy: 0.9621 - precision: 0.9538 - recall: 0.9852\n",
            "Epoch 73/100\n",
            "91/91 [==============================] - 0s 2ms/step - loss: 0.1065 - accuracy: 0.9625 - precision: 0.9558 - recall: 0.9835\n",
            "Epoch 74/100\n",
            "91/91 [==============================] - 0s 2ms/step - loss: 0.0985 - accuracy: 0.9663 - precision: 0.9576 - recall: 0.9881\n",
            "Epoch 75/100\n",
            "91/91 [==============================] - 0s 2ms/step - loss: 0.0967 - accuracy: 0.9669 - precision: 0.9602 - recall: 0.9864\n",
            "Epoch 76/100\n",
            "91/91 [==============================] - 0s 2ms/step - loss: 0.1000 - accuracy: 0.9635 - precision: 0.9590 - recall: 0.9818\n",
            "Epoch 77/100\n",
            "91/91 [==============================] - 0s 2ms/step - loss: 0.0956 - accuracy: 0.9666 - precision: 0.9612 - recall: 0.9847\n",
            "Epoch 78/100\n",
            "91/91 [==============================] - 0s 3ms/step - loss: 0.0992 - accuracy: 0.9652 - precision: 0.9586 - recall: 0.9852\n",
            "Epoch 79/100\n",
            "91/91 [==============================] - 0s 3ms/step - loss: 0.0992 - accuracy: 0.9673 - precision: 0.9612 - recall: 0.9858\n",
            "Epoch 80/100\n",
            "91/91 [==============================] - 0s 3ms/step - loss: 0.0875 - accuracy: 0.9700 - precision: 0.9635 - recall: 0.9881\n",
            "Epoch 81/100\n",
            "91/91 [==============================] - 0s 3ms/step - loss: 0.0979 - accuracy: 0.9649 - precision: 0.9606 - recall: 0.9824\n",
            "Epoch 82/100\n",
            "91/91 [==============================] - 0s 3ms/step - loss: 0.0897 - accuracy: 0.9680 - precision: 0.9613 - recall: 0.9869\n",
            "Epoch 83/100\n",
            "91/91 [==============================] - 0s 3ms/step - loss: 0.1053 - accuracy: 0.9621 - precision: 0.9594 - recall: 0.9790\n",
            "Epoch 84/100\n",
            "91/91 [==============================] - 0s 3ms/step - loss: 0.0956 - accuracy: 0.9642 - precision: 0.9575 - recall: 0.9847\n",
            "Epoch 85/100\n",
            "91/91 [==============================] - 0s 3ms/step - loss: 0.1130 - accuracy: 0.9545 - precision: 0.9488 - recall: 0.9779\n",
            "Epoch 86/100\n",
            "91/91 [==============================] - 0s 2ms/step - loss: 0.1051 - accuracy: 0.9628 - precision: 0.9584 - recall: 0.9813\n",
            "Epoch 87/100\n",
            "91/91 [==============================] - 0s 2ms/step - loss: 0.0851 - accuracy: 0.9718 - precision: 0.9641 - recall: 0.9903\n",
            "Epoch 88/100\n",
            "91/91 [==============================] - 0s 3ms/step - loss: 0.0878 - accuracy: 0.9700 - precision: 0.9635 - recall: 0.9881\n",
            "Epoch 89/100\n",
            "91/91 [==============================] - 0s 2ms/step - loss: 0.0799 - accuracy: 0.9728 - precision: 0.9662 - recall: 0.9898\n",
            "Epoch 90/100\n",
            "91/91 [==============================] - 0s 2ms/step - loss: 0.0828 - accuracy: 0.9721 - precision: 0.9641 - recall: 0.9909\n",
            "Epoch 91/100\n",
            "91/91 [==============================] - 0s 3ms/step - loss: 0.0757 - accuracy: 0.9738 - precision: 0.9668 - recall: 0.9909\n",
            "Epoch 92/100\n",
            "91/91 [==============================] - 0s 3ms/step - loss: 0.0781 - accuracy: 0.9725 - precision: 0.9646 - recall: 0.9909\n",
            "Epoch 93/100\n",
            "91/91 [==============================] - 0s 3ms/step - loss: 0.0898 - accuracy: 0.9687 - precision: 0.9654 - recall: 0.9835\n",
            "Epoch 94/100\n",
            "91/91 [==============================] - 0s 2ms/step - loss: 0.0849 - accuracy: 0.9687 - precision: 0.9660 - recall: 0.9830\n",
            "Epoch 95/100\n",
            "91/91 [==============================] - 0s 2ms/step - loss: 0.0859 - accuracy: 0.9694 - precision: 0.9644 - recall: 0.9858\n",
            "Epoch 96/100\n",
            "91/91 [==============================] - 0s 2ms/step - loss: 0.0781 - accuracy: 0.9731 - precision: 0.9693 - recall: 0.9869\n",
            "Epoch 97/100\n",
            "91/91 [==============================] - 0s 2ms/step - loss: 0.0802 - accuracy: 0.9704 - precision: 0.9661 - recall: 0.9858\n",
            "Epoch 98/100\n",
            "91/91 [==============================] - 0s 2ms/step - loss: 0.0781 - accuracy: 0.9700 - precision: 0.9640 - recall: 0.9875\n",
            "Epoch 99/100\n",
            "91/91 [==============================] - 0s 2ms/step - loss: 0.0707 - accuracy: 0.9752 - precision: 0.9699 - recall: 0.9898\n",
            "Epoch 100/100\n",
            "91/91 [==============================] - 0s 2ms/step - loss: 0.0749 - accuracy: 0.9714 - precision: 0.9666 - recall: 0.9869\n"
          ]
        },
        {
          "output_type": "execute_result",
          "data": {
            "text/plain": [
              "<keras.callbacks.History at 0x7f3bfcf9af80>"
            ]
          },
          "metadata": {},
          "execution_count": 11
        }
      ]
    },
    {
      "cell_type": "code",
      "source": [
        "# Make predictions on the testing data\n",
        "y_pred_proba = model.predict(X_test)\n",
        "y_pred = np.round(y_pred_proba).flatten()"
      ],
      "metadata": {
        "colab": {
          "base_uri": "https://localhost:8080/"
        },
        "id": "0-5YVedwJA-E",
        "outputId": "805bea29-5386-4648-e413-15452def6b2b"
      },
      "execution_count": null,
      "outputs": [
        {
          "output_type": "stream",
          "name": "stdout",
          "text": [
            "23/23 [==============================] - 0s 2ms/step\n"
          ]
        }
      ]
    },
    {
      "cell_type": "code",
      "source": [
        "# Evaluate the model\n",
        "accuracy = accuracy_score(y_test, y_pred)\n",
        "precision = precision_score(y_test, y_pred)\n",
        "recall = recall_score(y_test, y_pred)\n",
        "f1 = f1_score(y_test, y_pred)"
      ],
      "metadata": {
        "id": "DCceLtO2JIGd"
      },
      "execution_count": null,
      "outputs": []
    },
    {
      "cell_type": "code",
      "source": [
        "print(\"Accuracy Score:\", accuracy)\n",
        "print(\"Precision Score:\", precision)\n",
        "print(\"Recall Score:\", recall)\n",
        "print(\"F1 Score:\", f1)"
      ],
      "metadata": {
        "colab": {
          "base_uri": "https://localhost:8080/"
        },
        "id": "6lYVOpfeJMAu",
        "outputId": "980e7ab4-4635-48f3-dec7-1fcbac8fec09"
      },
      "execution_count": null,
      "outputs": [
        {
          "output_type": "stream",
          "name": "stdout",
          "text": [
            "Accuracy Score: 0.8911845730027548\n",
            "Precision Score: 0.8950749464668094\n",
            "Recall Score: 0.9330357142857143\n",
            "F1 Score: 0.9136612021857924\n"
          ]
        }
      ]
    },
    {
      "cell_type": "code",
      "source": [
        "import matplotlib.pyplot as plt\n",
        "import seaborn as sns\n",
        "from sklearn.metrics import confusion_matrix\n",
        "\n",
        "# Compute the confusion matrix\n",
        "cm = confusion_matrix(y_test, y_pred)\n",
        "\n",
        "# Plot the confusion matrix\n",
        "plt.figure(figsize=(6, 4))\n",
        "sns.heatmap(cm, annot=True, fmt='d', cmap='Blues', cbar=False)\n",
        "plt.xlabel('Predicted')\n",
        "plt.ylabel('True')\n",
        "plt.title('Confusion Matrix')\n",
        "plt.show()\n"
      ],
      "metadata": {
        "colab": {
          "base_uri": "https://localhost:8080/",
          "height": 410
        },
        "id": "1LyZ3itPJj9y",
        "outputId": "6075b979-9b1b-4004-829e-a5db60cb87e7"
      },
      "execution_count": null,
      "outputs": [
        {
          "output_type": "display_data",
          "data": {
            "text/plain": [
              "<Figure size 600x400 with 1 Axes>"
            ],
            "image/png": "[encoded data removed]"
          },
          "metadata": {}
        }
      ]
    },
    {
      "cell_type": "code",
      "source": [
        "metrics = ['Accuracy', 'Precision', 'Recall', 'F1 Score']\n",
        "scores = [accuracy, precision, recall, f1]\n",
        "\n",
        "plt.figure(figsize=(8, 4))\n",
        "sns.barplot(x=metrics, y=scores, palette='Blues')\n",
        "plt.xlabel('Metrics')\n",
        "plt.ylabel('Score')\n",
        "plt.title('Model Performance')\n",
        "plt.show()\n"
      ],
      "metadata": {
        "colab": {
          "base_uri": "https://localhost:8080/",
          "height": 410
        },
        "id": "cbswTUeeJpEo",
        "outputId": "756ce5d4-76b0-4b77-b65c-bcb659d7f831"
      },
      "execution_count": null,
      "outputs": [
        {
          "output_type": "display_data",
          "data": {
            "text/plain": [
              "<Figure size 800x400 with 1 Axes>"
            ],
            "image/png": "[encoded data removed]"
          },
          "metadata": {}
        }
      ]
    }
  ]
}